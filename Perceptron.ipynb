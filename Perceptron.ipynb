{
 "cells": [
  {
   "cell_type": "markdown",
   "metadata": {},
   "source": [
    "# Perceptron"
   ]
  },
  {
   "cell_type": "code",
   "execution_count": 1,
   "metadata": {},
   "outputs": [],
   "source": [
    "import pandas as pd\n",
    "import numpy as np\n",
    "from sklearn.preprocessing import LabelEncoder\n",
    "from sklearn.model_selection import train_test_split"
   ]
  },
  {
   "cell_type": "code",
   "execution_count": 2,
   "metadata": {},
   "outputs": [],
   "source": [
    "data = pd.read_csv('training.csv')\n",
    "## read the file"
   ]
  },
  {
   "cell_type": "code",
   "execution_count": 3,
   "metadata": {},
   "outputs": [],
   "source": [
    "## the method to preprocess the data\n",
    "def getData():\n",
    "    df_train = pd.read_csv('training.csv')\n",
    "    df_test = pd.read_csv('test.csv')\n",
    "    le=LabelEncoder()\n",
    "\n",
    "    ## converted string categories to integers\n",
    "    for i in df_train.columns:\n",
    "        df_train[i]=le.fit_transform(df_train[i])\n",
    "\n",
    "    for i in df_test.columns:\n",
    "        df_test[i]=le.fit_transform(df_test[i])\n",
    "\n",
    "    length = len(df_train.values)\n",
    "    x_train = df_train.values[:int(0.8 * length), :-1]\n",
    "    y_train = df_train.values[:int(0.8 * length), -1]\n",
    "    x_val = df_train.values[int(0.8 * length):, :-1]\n",
    "    y_val = df_train.values[int(0.8 * length):, -1]\n",
    "    x_test = df_test.values\n",
    "    ## divide the data sets\n",
    "   \n",
    "    return x_train, y_train, x_val, y_val, x_test"
   ]
  },
  {
   "cell_type": "code",
   "execution_count": 4,
   "metadata": {},
   "outputs": [],
   "source": [
    "## learning rate\n",
    "lr = 0.000001\n",
    "## One dimensional to three dimensional\n",
    "classMap = {'0': [1, 0, 0],\n",
    "            '1': [0, 1, 0],\n",
    "            '2': [0, 0, 1]}\n",
    "## Mapping of categories\n",
    "class_map = [0, 1, 2]\n",
    "x_train, y_train, x_val, y_val, x_test = getData()\n",
    "## by testing using the tested W and b for better performance\n",
    "W = ([[-0.32657691, -2.85882622, -1.31733828,  0.36582288,  0.28696095,\n",
    "         0.52635251],\n",
    "       [ 1.93086895, -2.1595922 , -0.01300277, -0.30035065, -0.57970513,\n",
    "        -0.50939984],\n",
    "       [ 0.95713977, -0.43152667, -0.95617592,  0.30372662,  1.33805785,\n",
    "        -0.4624965 ]])\n",
    "b = ([-1.07894577, -0.57911672,  1.95828119])"
   ]
  },
  {
   "cell_type": "code",
   "execution_count": 5,
   "metadata": {},
   "outputs": [
    {
     "data": {
      "text/plain": [
       "[[-0.32657691, -2.85882622, -1.31733828, 0.36582288, 0.28696095, 0.52635251],\n",
       " [1.93086895, -2.1595922, -0.01300277, -0.30035065, -0.57970513, -0.50939984],\n",
       " [0.95713977, -0.43152667, -0.95617592, 0.30372662, 1.33805785, -0.4624965]]"
      ]
     },
     "execution_count": 5,
     "metadata": {},
     "output_type": "execute_result"
    }
   ],
   "source": [
    "W"
   ]
  },
  {
   "cell_type": "code",
   "execution_count": 6,
   "metadata": {},
   "outputs": [
    {
     "data": {
      "text/plain": [
       "[-1.07894577, -0.57911672, 1.95828119]"
      ]
     },
     "execution_count": 6,
     "metadata": {},
     "output_type": "execute_result"
    }
   ],
   "source": [
    "b"
   ]
  },
  {
   "cell_type": "code",
   "execution_count": 7,
   "metadata": {},
   "outputs": [
    {
     "name": "stdout",
     "output_type": "stream",
     "text": [
      "Total: 266 Correct： 181\n",
      "Accuracy:68.05%\n"
     ]
    }
   ],
   "source": [
    "## train 100 times\n",
    "for i in range(100):\n",
    "    loss = 0\n",
    "    ## Initialize the partial derivative\n",
    "    alpha1 = [0] * 6\n",
    "    alpha2 = [0] * 6\n",
    "    alpha3 = [0] * 6\n",
    "    beta1 = 0\n",
    "    beta2 = 0\n",
    "    beta3 = 0\n",
    "    for xi, yi in zip(x_train, y_train):\n",
    "        ai = np.sum(np.multiply([xi] * 3, W), axis=1) + b\n",
    "        y_predicti = np.exp(ai) / sum(np.exp(ai))\n",
    "        y_i = classMap[str(yi)]\n",
    "        lossi = -sum(np.multiply(y_i, np.log(y_predicti)))\n",
    "        loss += lossi\n",
    "        ## Partial derivatives of each training data are accumulated\n",
    "        alpha1 += np.multiply(sum(np.multiply([0, 1, 1], y_i)), xi)\n",
    "        alpha2 += np.multiply(sum(np.multiply([1, 0, 1], y_i)), xi)\n",
    "        alpha3 += np.multiply(sum(np.multiply([1, 1, 0], y_i)), xi)\n",
    "        beta1 += sum(np.multiply([0, 1, 1], y_i))\n",
    "        beta2 += sum(np.multiply([1, 0, 1], y_i))\n",
    "        beta3 += sum(np.multiply([1, 1, 0], y_i))\n",
    "    ## update W and b\n",
    "    W[0] -= alpha1 * lr\n",
    "    W[1] -= alpha2 * lr\n",
    "    W[2] -= alpha3 * lr\n",
    "    b[0] -= beta1 * lr\n",
    "    b[1] -= beta2 * lr\n",
    "    b[2] -= beta3 * lr\n",
    "    loss = loss/len(x_train)\n",
    "recall = 0\n",
    "## vertify\n",
    "for xi, yi in zip(x_val, y_val):\n",
    "    ai = np.sum(np.multiply([xi] * 3, W), axis=1) + b\n",
    "    y_predicti = np.exp(ai) / sum(np.exp(ai))\n",
    "    y_predicti = [class_map[idx] for idx, i in enumerate(y_predicti) if i == max(y_predicti)][0]\n",
    "    recall += 1 if int(y_predicti) == yi else 0\n",
    "print('Total:', len(x_val), 'Correct：', recall)\n",
    "\n",
    "## testing\n",
    "for xi in x_test:\n",
    "    ai = np.sum(np.multiply([xi] * 3, W), axis=1) + b\n",
    "    y_predicti = np.exp(ai) / sum(np.exp(ai))\n",
    "    y_predicti = [class_map[idx] for idx, i in enumerate(y_predicti) if i == max(y_predicti)][0]\n",
    "\n",
    "## print the result\n",
    "print('Accuracy:{:.2f}%'.format(100*recall/len(x_val)))"
   ]
  }
 ],
 "metadata": {
  "kernelspec": {
   "display_name": "Python 3 (ipykernel)",
   "language": "python",
   "name": "python3"
  },
  "language_info": {
   "codemirror_mode": {
    "name": "ipython",
    "version": 3
   },
   "file_extension": ".py",
   "mimetype": "text/x-python",
   "name": "python",
   "nbconvert_exporter": "python",
   "pygments_lexer": "ipython3",
   "version": "3.9.7"
  },
  "toc": {
   "base_numbering": 1,
   "nav_menu": {},
   "number_sections": true,
   "sideBar": true,
   "skip_h1_title": false,
   "title_cell": "Table of Contents",
   "title_sidebar": "Contents",
   "toc_cell": false,
   "toc_position": {},
   "toc_section_display": true,
   "toc_window_display": false
  }
 },
 "nbformat": 4,
 "nbformat_minor": 2
}
